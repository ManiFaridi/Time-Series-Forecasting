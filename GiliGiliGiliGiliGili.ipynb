{
  "nbformat": 4,
  "nbformat_minor": 0,
  "metadata": {
    "colab": {
      "private_outputs": true,
      "provenance": []
    },
    "kernelspec": {
      "name": "python3",
      "display_name": "Python 3"
    },
    "language_info": {
      "name": "python"
    }
  },
  "cells": [
    {
      "cell_type": "code",
      "execution_count": null,
      "metadata": {
        "id": "xzognJzFO7fB"
      },
      "outputs": [],
      "source": [
        "import pandas as pd\n",
        "import numpy as np\n",
        "import yfinance as yf\n",
        "import matplotlib.pyplot as plt\n",
        "import tensorflow as tf\n",
        "from tensorflow.keras.models import Sequential\n",
        "from tensorflow.keras.layers import Dense, GRU, LSTM, Dropout\n",
        "from tensorflow.keras.optimizers import Adam, SGD\n",
        "from tensorflow.keras.callbacks import EarlyStopping\n",
        "from sklearn.metrics import mean_squared_error\n",
        "from sklearn.preprocessing import MinMaxScaler\n",
        "\n",
        "import warnings\n",
        "warnings.filterwarnings('ignore')"
      ]
    },
    {
      "cell_type": "code",
      "source": [
        "df = yf.download('TSLA')"
      ],
      "metadata": {
        "collapsed": true,
        "id": "dSJ7OgH4Qw4F"
      },
      "execution_count": null,
      "outputs": []
    },
    {
      "cell_type": "code",
      "source": [
        "def add_technicals(df):\n",
        "    df['MA20'] = df['Close'].rolling(window=20).mean()\n",
        "    df['MA50'] = df['Close'].rolling(window=50).mean()\n",
        "    df['MA200'] = df['Close'].rolling(window=200).mean()\n",
        "    df['RSI'] = calculate_rsi(df['Close'], 14)\n",
        "    exp1 = df['Close'].ewm(span=12, adjust=False).mean()\n",
        "    exp2 = df['Close'].ewm(span=26, adjust=False).mean()\n",
        "    df['MACD'] = exp1 - exp2\n",
        "    df['Signal Line'] = df['MACD'].ewm(span=9, adjust=False).mean()\n",
        "    df['20STD'] = df['Close'].rolling(window=20).std()\n",
        "    df['Upper Band'] = df['MA20'] + (df['20STD'] * 2)\n",
        "    df['Lower Band'] = df['MA20'] - (df['20STD'] * 2)\n",
        "    df['L14'] = df['Low'].rolling(window=14).min()\n",
        "    df['H14'] = df['High'].rolling(window=14).max()\n",
        "    df['%K'] = (df['Close'] - df['L14']) * 100 / (df['H14'] - df['L14'])\n",
        "    df['%D'] = df['%K'].rolling(window=3).mean()\n",
        "    high = df['High'].max()\n",
        "    low = df['Low'].min()\n",
        "    fib_levels = fibonacci_retracement_levels(high, low)\n",
        "    df['Fib236'] = fib_levels[0]\n",
        "    df['Fib382'] = fib_levels[1]\n",
        "    df['Fib618'] = fib_levels[2]\n",
        "    df['VMA20'] = df['Volume'].rolling(window=20).mean()\n",
        "    df['OBV'] = (np.sign(df['Close'].diff()) * df['Volume']).fillna(0).cumsum()\n",
        "    return df\n",
        "\n",
        "def calculate_rsi(data, window):\n",
        "    delta = data.diff(1)\n",
        "    gain = (delta.where(delta > 0, 0)).rolling(window=window).mean()\n",
        "    loss = (-delta.where(delta < 0, 0)).rolling(window=window).mean()\n",
        "    rs = gain / loss\n",
        "    rsi = 100 - (100 / (1 + rs))\n",
        "    return rsi\n",
        "\n",
        "def fibonacci_retracement_levels(high, low):\n",
        "    diff = high - low\n",
        "    level1 = high - 0.236 * diff\n",
        "    level2 = high - 0.382 * diff\n",
        "    level3 = high - 0.618 * diff\n",
        "    return level1, level2, level3"
      ],
      "metadata": {
        "id": "_lgiYVmERHPD"
      },
      "execution_count": null,
      "outputs": []
    },
    {
      "cell_type": "code",
      "source": [
        "df = add_technicals(df)\n",
        "df.dropna(inplace=True)"
      ],
      "metadata": {
        "id": "yZDYWLPDSkoO"
      },
      "execution_count": null,
      "outputs": []
    },
    {
      "cell_type": "code",
      "source": [
        "# minimalist approach\n",
        "# testing using minimal features and minimal neural layers\n",
        "# gradually increasing the feature count as we get better results\n",
        "features = ['Close', 'MA20','MA50']\n",
        "df = df[features]"
      ],
      "metadata": {
        "id": "EYT0u_VVkUJe"
      },
      "execution_count": null,
      "outputs": []
    },
    {
      "cell_type": "code",
      "source": [
        "# gotta remember the scaler for Close as we need to inverse transform the output later - maybe not :)\n",
        "for col in features:\n",
        "    scaler = MinMaxScaler()\n",
        "    if col == 'Close':\n",
        "        cls_scaler = scaler\n",
        "    df[col] = scaler.fit_transform(df[[col]])"
      ],
      "metadata": {
        "collapsed": true,
        "id": "oMGmaQDDUMsX"
      },
      "execution_count": null,
      "outputs": []
    },
    {
      "cell_type": "code",
      "source": [
        "# change this horizon as needed\n",
        "forecast_horizon = 10\n",
        "\n",
        "df['Close_shft'] = df['Close'].shift(-forecast_horizon)\n",
        "df.dropna(inplace=True)"
      ],
      "metadata": {
        "id": "Exfde1-1BVbt",
        "collapsed": true
      },
      "execution_count": null,
      "outputs": []
    },
    {
      "cell_type": "code",
      "source": [
        "q_80 = int(len(df) * .8)\n",
        "q_90 = int(len(df) * .9)\n",
        "train = df[:q_80]\n",
        "val = df[q_80:q_90]\n",
        "test = df[q_90:]"
      ],
      "metadata": {
        "id": "LyJGVFAG9pRJ"
      },
      "execution_count": null,
      "outputs": []
    },
    {
      "cell_type": "code",
      "source": [
        "num_features = len(features)\n",
        "time_stamps = forecast_horizon"
      ],
      "metadata": {
        "collapsed": true,
        "id": "EbM9lvXkAeI7"
      },
      "execution_count": null,
      "outputs": []
    },
    {
      "cell_type": "code",
      "source": [
        "num_features"
      ],
      "metadata": {
        "id": "bfYKdDhy19bS"
      },
      "execution_count": null,
      "outputs": []
    },
    {
      "cell_type": "code",
      "source": [
        "X_train, y_train = train.loc[:, train.columns != 'Close_shft'], train['Close_shft']\n",
        "X_val, y_val = val.loc[:, val.columns != 'Close_shft'], val['Close_shft']\n",
        "X_test, y_test = test.loc[:, test.columns != 'Close_shft'], test['Close_shft']"
      ],
      "metadata": {
        "id": "1n6mz53KApYh"
      },
      "execution_count": null,
      "outputs": []
    },
    {
      "cell_type": "code",
      "source": [
        "# the best prediction comes from this architecure:\n",
        "#       LSTM(50) -> Dropout(.1) -> Dense(1, activation='tanh') (30 epochs)\n",
        "#       with the best rmse of 0.0690\n",
        "#       and using this X -> ['Close', 'MA20','MA50'] and this y -> ['Close_shft']\n",
        "#       with the forecast_horizon of 10\n",
        "model = Sequential([\n",
        "    LSTM(50, input_shape=(num_features, 1)),\n",
        "    Dropout(.1),\n",
        "    Dense(1, activation='tanh'),\n",
        "])\n",
        "model.compile(optimizer=Adam(learning_rate=.005), loss='mse')\n",
        "history = model.fit(x=X_train, y=y_train, batch_size=time_stamps, epochs=30,\n",
        "                    validation_data=(X_val, y_val))"
      ],
      "metadata": {
        "collapsed": true,
        "id": "z85WbNlwcfOs"
      },
      "execution_count": null,
      "outputs": []
    },
    {
      "cell_type": "code",
      "source": [
        "y_pred = model.predict(X_test)\n",
        "y_pred = y_pred.flatten()\n",
        "mse = mean_squared_error(y_test, y_pred)\n",
        "rmse = np.sqrt(mse)\n",
        "rmse"
      ],
      "metadata": {
        "id": "VDU_xo7IdyBa"
      },
      "execution_count": null,
      "outputs": []
    },
    {
      "cell_type": "code",
      "source": [
        "plt.plot(range(len(y_pred)), y_pred, color='red', label='Prediction')\n",
        "plt.plot(range(len(y_test)), y_test, color='blue', label='Actual')\n",
        "plt.grid()\n",
        "plt.legend()\n",
        "plt.show()"
      ],
      "metadata": {
        "id": "cFTJVGX9e3Ur"
      },
      "execution_count": null,
      "outputs": []
    },
    {
      "cell_type": "code",
      "source": [
        "# testing the model on other stocks\n",
        "aapl = yf.download('AAPL')\n",
        "aapl['MA20'] = aapl['Close'].rolling(window=20).mean()\n",
        "aapl['MA50'] = aapl['Close'].rolling(window=20).mean()\n",
        "for col in features:\n",
        "    scaler = MinMaxScaler()\n",
        "    if col == 'Close':\n",
        "        cls_scaler = scaler\n",
        "    aapl[col] = scaler.fit_transform(aapl[[col]])\n",
        "aapl['Close_shft'] = aapl['Close'].shift(-forecast_horizon)\n",
        "aapl.dropna(inplace=True)\n",
        "aapl = aapl[['Close', 'Close_shft', 'MA20', 'MA50']]\n",
        "y_pred = model.predict(aapl[['Close', 'MA20', 'MA50']])\n",
        "rmse = np.sqrt(mean_squared_error(aapl['Close_shft'], y_pred))\n",
        "print(rmse)\n",
        "plt.plot(y_pred, color='red', label='Prediction')\n",
        "plt.plot(aapl['Close_shft'], color='blue', label='Actual')\n",
        "plt.grid()\n",
        "plt.legend()\n",
        "plt.show()"
      ],
      "metadata": {
        "id": "o5xJnSgzfHF_"
      },
      "execution_count": null,
      "outputs": []
    },
    {
      "cell_type": "code",
      "source": [],
      "metadata": {
        "id": "TUIwJ3kr6sWS"
      },
      "execution_count": null,
      "outputs": []
    }
  ]
}